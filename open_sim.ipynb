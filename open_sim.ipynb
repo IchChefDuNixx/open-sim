{
 "cells": [
  {
   "cell_type": "code",
   "execution_count": 1,
   "metadata": {},
   "outputs": [],
   "source": [
    "import time\n",
    "from sim_worker_threads import Simulations, SimUtils\n",
    "\n",
    "SIM_PATH = r\"..\\mass-sim\\simulator.js\"\n",
    "SECRET_PATH = r\"client_secret_85915911832-bchaso494se2t02b45m3c670v56gjccn.apps.googleusercontent.com.json\"\n",
    "\n",
    "MASS_SIM_SHEET_NAME = \"Beast/Aether/Avian Guild War\" # Cloud's public sheet\n",
    "OPEN_SIM_SHEET_NAME = \"Spellstone Open Mass Sim\"\n",
    "\n",
    "max_threads = 3 # Number of CPU threads minus 1\n",
    "bge = \"178,179\" # BGE TODO: auto-detect bge from data.min.json\n",
    "siege = True # whether the opponent has any tower. default True (e.g. bounties)\n",
    "tower = \"501\" # the opponent's tower type. default \"501\" (e.g. bounties)\n",
    "N = 30 # minimum time interval between updates in seconds"
   ]
  },
  {
   "cell_type": "code",
   "execution_count": 2,
   "metadata": {},
   "outputs": [],
   "source": [
    "sim = Simulations(SIM_PATH, max_threads, bge, siege, tower)\n",
    "open_sim = SimUtils.SheetUtils(SECRET_PATH, OPEN_SIM_SHEET_NAME)"
   ]
  },
  {
   "cell_type": "code",
   "execution_count": 3,
   "metadata": {},
   "outputs": [],
   "source": [
    "full_attackers, full_defenders = open_sim.get_hash_stash()"
   ]
  },
  {
   "cell_type": "code",
   "execution_count": 4,
   "metadata": {},
   "outputs": [],
   "source": [
    "# mass_sheet = SimUtils.SheetUtils(SECRET_PATH, MASS_SIM_SHEET_NAME)\n",
    "# full_attackers, full_defenders = mass_sheet.get_cloud_hashes()"
   ]
  },
  {
   "cell_type": "code",
   "execution_count": 5,
   "metadata": {},
   "outputs": [],
   "source": [
    "# attackers, defenders, off_notes, def_notes = open_sim.get_open_sim_hashes()\n",
    "\n",
    "# if len(attackers) > 0:\n",
    "#     off_results = sim.mass_sim(attackers, full_defenders, num_sims=2000, include_top50=True)\n",
    "#     open_sim.update_open_sim_results(off_results.iloc[2:, :2].reindex(attackers).assign(**{\"Notes/Names\": off_notes}), \"off\", True)\n",
    "\n",
    "# if len(defenders) > 0:\n",
    "#     def_results = sim.mass_sim(full_attackers, defenders, num_sims=2000, include_top50=True)\n",
    "#     open_sim.update_open_sim_results(def_results.T.iloc[2:, :2].reindex(defenders).assign(**{\"Notes/Names\": def_notes}), \"def\", True)"
   ]
  },
  {
   "cell_type": "code",
   "execution_count": 6,
   "metadata": {},
   "outputs": [
    {
     "name": "stdout",
     "output_type": "stream",
     "text": [
      "Execution time: 1.98 seconds    \r"
     ]
    }
   ],
   "source": [
    "# infinite loop\n",
    "try:\n",
    "    while True:\n",
    "        ## core block\n",
    "        start_time = time.time()\n",
    "\n",
    "        attackers, defenders, off_notes, def_notes = open_sim.get_open_sim_hashes()\n",
    "\n",
    "        if len(attackers) > 0:\n",
    "            off_results = sim.mass_sim(attackers, full_defenders, num_sims=1000, include_top50=True)\n",
    "            open_sim.update_open_sim_results(off_results.iloc[2:, :2].reindex(attackers).assign(**{\"Notes/Names\": off_notes}), \"off\", fifo=True)\n",
    "\n",
    "        if len(defenders) > 0:\n",
    "            def_results = sim.mass_sim(full_attackers, defenders, num_sims=1000, include_top50=True)\n",
    "            open_sim.update_open_sim_results(def_results.T.iloc[2:, :2].reindex(defenders).assign(**{\"Notes/Names\": def_notes}), \"def\", fifo=True)\n",
    "\n",
    "        print(f\"Execution time: {time.time() - start_time:.2f} seconds  \", end=\"\\r\")        \n",
    "\n",
    "        # Wait until the next N-second interval\n",
    "        current_time = time.localtime()\n",
    "        # N = 15\n",
    "        seconds_until_next_interval = N - (current_time.tm_sec % N)\n",
    "        time.sleep(seconds_until_next_interval)\n",
    "\n",
    "except KeyboardInterrupt:\n",
    "    print(\"Execution stopped by user     \")"
   ]
  }
 ],
 "metadata": {
  "kernelspec": {
   "display_name": "Python 3",
   "language": "python",
   "name": "python3"
  },
  "language_info": {
   "codemirror_mode": {
    "name": "ipython",
    "version": 3
   },
   "file_extension": ".py",
   "mimetype": "text/x-python",
   "name": "python",
   "nbconvert_exporter": "python",
   "pygments_lexer": "ipython3",
   "version": "3.12.2"
  }
 },
 "nbformat": 4,
 "nbformat_minor": 2
}
