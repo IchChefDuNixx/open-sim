{
 "cells": [
  {
   "cell_type": "code",
   "execution_count": 1,
   "metadata": {},
   "outputs": [],
   "source": [
    "import time\n",
    "from sim_worker_threads import Simulations, SimUtils\n",
    "\n",
    "DATA_PATH = r\".\\data.min.js\" # data.min.js\n",
    "SIM_PATH = r\".\\simulator.js\" # simulator.js\n",
    "SECRET_PATH = r\".\\client_secret_XXXXXXXXXXXX.apps.googleusercontent.com.json\" # google OAuth .json\n",
    "\n",
    "MASS_SIM_SHEET_NAME = \"Beast/Aether/Avian Guild War\" # Cloud's sheet name\n",
    "OPEN_SIM_SHEET_NAME = \"Spellstone Open Mass Sim\" # Chef's sheet name\n",
    "\n",
    "MAX_THREADS = 3 # Number of CPU threads to use. Recommended: all available minus 1\n",
    "NUM_SIMS = 1000 # Number of simulations per off-def pair\n",
    "BGE = SimUtils.get_current_bges(DATA_PATH, add_GC=False) # Automatically read current BGEs from file\n",
    "SIEGE = True # Whether the opponent has any tower. Default True (e.g. bounties)\n",
    "TOWER = \"501\" # The opponent's tower type ID. Default \"501\" (e.g. bounties)\n",
    "DELAY = 15 # Minimum time interval between sheet updates in seconds"
   ]
  },
  {
   "cell_type": "code",
   "execution_count": 2,
   "metadata": {},
   "outputs": [],
   "source": [
    "sim = Simulations(SIM_PATH, MAX_THREADS, BGE, SIEGE, TOWER)\n",
    "open_sim = SimUtils.SheetUtils(SECRET_PATH, OPEN_SIM_SHEET_NAME)\n",
    "full_attackers, full_defenders = open_sim.get_hash_stash()"
   ]
  },
  {
   "cell_type": "code",
   "execution_count": null,
   "metadata": {},
   "outputs": [],
   "source": [
    "# sim = Simulations(SIM_PATH, MAX_THREADS, BGE, SIEGE, TOWER)\n",
    "# mass_sim = SimUtils.SheetUtils(SECRET_PATH, MASS_SIM_SHEET_NAME)\n",
    "# full_attackers, full_defenders = mass_sim.get_cloud_hashes()"
   ]
  },
  {
   "cell_type": "code",
   "execution_count": 3,
   "metadata": {},
   "outputs": [
    {
     "name": "stdout",
     "output_type": "stream",
     "text": [
      "Execution time: 5.09 seconds    \r"
     ]
    }
   ],
   "source": [
    "# infinite loop\n",
    "try:\n",
    "    while True:\n",
    "        ## core block\n",
    "        start_time = time.time()\n",
    "\n",
    "        attackers, defenders, off_notes, def_notes = open_sim.get_open_sim_hashes()\n",
    "\n",
    "        if len(attackers) > 0:\n",
    "            off_results = sim.mass_sim(attackers, full_defenders, NUM_SIMS, include_top50=True)\n",
    "            open_sim.update_open_sim_results(off_results.iloc[2:, :2].reindex(attackers).assign(**{\"Notes/Names\": off_notes}), \"off\", fifo=True)\n",
    "\n",
    "        if len(defenders) > 0:\n",
    "            def_results = sim.mass_sim(full_attackers, defenders, NUM_SIMS, include_top50=True)\n",
    "            open_sim.update_open_sim_results(def_results.T.iloc[2:, :2].reindex(defenders).assign(**{\"Notes/Names\": def_notes}), \"def\", fifo=True)\n",
    "\n",
    "        print(f\"Execution time: {time.time() - start_time:.2f} seconds  \", end=\"\\r\")        \n",
    "\n",
    "        # Wait until the next N-second interval\n",
    "        current_time = time.localtime()\n",
    "        seconds_until_next_interval = DELAY - (current_time.tm_sec % DELAY)\n",
    "        time.sleep(seconds_until_next_interval)\n",
    "\n",
    "except KeyboardInterrupt:\n",
    "    print(\"Execution stopped by user     \")"
   ]
  }
 ],
 "metadata": {
  "kernelspec": {
   "display_name": "Python 3",
   "language": "python",
   "name": "python3"
  },
  "language_info": {
   "codemirror_mode": {
    "name": "ipython",
    "version": 3
   },
   "file_extension": ".py",
   "mimetype": "text/x-python",
   "name": "python",
   "nbconvert_exporter": "python",
   "pygments_lexer": "ipython3",
   "version": "3.12.2"
  }
 },
 "nbformat": 4,
 "nbformat_minor": 2
}
